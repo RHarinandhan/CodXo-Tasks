{
 "cells": [
  {
   "cell_type": "code",
   "execution_count": 1,
   "id": "b7228c53",
   "metadata": {},
   "outputs": [],
   "source": [
    "# Python programming Intern at Codxo. \n",
    "# Task 1 : Number Gussing Game\n",
    "# Submited by Harinandhan"
   ]
  },
  {
   "cell_type": "code",
   "execution_count": 2,
   "id": "f3f2cfa2",
   "metadata": {},
   "outputs": [],
   "source": [
    "# Explaination \n",
    "# Random number guessing in Python. \n",
    "# The program will randomly select a number between 1 and 100, and the user will try to guess the number.\n",
    "# The program will give hints if the guess is too high or too low, and it will count the number of attempts the user makes."
   ]
  },
  {
   "cell_type": "code",
   "execution_count": 3,
   "id": "e4cb903f",
   "metadata": {},
   "outputs": [],
   "source": [
    "# In a number guessing game, the user guesses a randomly generated secret number within a given number of attempts.\n",
    "# After each guess, the user gets hints on whether their guess is too high, too low, or correct.\n",
    "# So the game ends when the user guesses the secret number or runs out of attempts."
   ]
  },
  {
   "cell_type": "code",
   "execution_count": 4,
   "id": "5af49be3",
   "metadata": {},
   "outputs": [
    {
     "name": "stdout",
     "output_type": "stream",
     "text": [
      "Welcome to the Number Guessing Game!\n",
      "I have selected a number between 1 and 100. Can you guess what it is?\n",
      "Enter your guess: 20\n",
      "Too high! Try again.\n",
      "Enter your guess: 15\n",
      "Too high! Try again.\n",
      "Enter your guess: 10\n",
      "Too low! Try again.\n",
      "Enter your guess: 14\n",
      "Too high! Try again.\n",
      "Enter your guess: 12\n",
      "Congratulations! You guessed the number in 5 attempts.\n"
     ]
    }
   ],
   "source": [
    "import random  # Lets execute this program \n",
    "\n",
    "def guessing_game():\n",
    "    number_to_guess = random.randint(1, 100)\n",
    "    number_of_attempts = 0\n",
    "    guessed = False\n",
    "    \n",
    "    print(\"Welcome to the Number Guessing Game!\")\n",
    "    print(\"I have selected a number between 1 and 100. Can you guess what it is?\")\n",
    "    \n",
    "    while not guessed:\n",
    "        try:\n",
    "            guess = int(input(\"Enter your guess: \"))\n",
    "            number_of_attempts += 1\n",
    "            \n",
    "            if guess < number_to_guess:\n",
    "                print(\"Too low! Try again.\")\n",
    "            elif guess > number_to_guess:\n",
    "                print(\"Too high! Try again.\")\n",
    "            else:\n",
    "                print(f\"Congratulations! You guessed the number in {number_of_attempts} attempts.\")\n",
    "                guessed = True\n",
    "        except ValueError:\n",
    "            print(\"Please enter a valid number.\")\n",
    "    \n",
    "if __name__ == \"__main__\":\n",
    "    guessing_game()\n"
   ]
  },
  {
   "cell_type": "code",
   "execution_count": 5,
   "id": "1ff85050",
   "metadata": {},
   "outputs": [],
   "source": [
    "# All this is about the number gussing game. Submitted by Harinandhan "
   ]
  },
  {
   "cell_type": "code",
   "execution_count": null,
   "id": "02684cc6",
   "metadata": {},
   "outputs": [],
   "source": []
  }
 ],
 "metadata": {
  "kernelspec": {
   "display_name": "Python 3 (ipykernel)",
   "language": "python",
   "name": "python3"
  },
  "language_info": {
   "codemirror_mode": {
    "name": "ipython",
    "version": 3
   },
   "file_extension": ".py",
   "mimetype": "text/x-python",
   "name": "python",
   "nbconvert_exporter": "python",
   "pygments_lexer": "ipython3",
   "version": "3.11.5"
  }
 },
 "nbformat": 4,
 "nbformat_minor": 5
}
